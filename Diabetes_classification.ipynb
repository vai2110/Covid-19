{
  "nbformat": 4,
  "nbformat_minor": 0,
  "metadata": {
    "colab": {
      "private_outputs": true,
      "provenance": [],
      "authorship_tag": "ABX9TyN1WH+9cAAs67t8Dk/ayxaC",
      "include_colab_link": true
    },
    "kernelspec": {
      "name": "python3",
      "display_name": "Python 3"
    },
    "language_info": {
      "name": "python"
    }
  },
  "cells": [
    {
      "cell_type": "markdown",
      "metadata": {
        "id": "view-in-github",
        "colab_type": "text"
      },
      "source": [
        "<a href=\"https://colab.research.google.com/github/vai2110/Covid-19/blob/main/Diabetes_classification.ipynb\" target=\"_parent\"><img src=\"https://colab.research.google.com/assets/colab-badge.svg\" alt=\"Open In Colab\"/></a>"
      ]
    },
    {
      "cell_type": "code",
      "execution_count": null,
      "metadata": {
        "id": "2WDmNV9ut273"
      },
      "outputs": [],
      "source": []
    },
    {
      "cell_type": "markdown",
      "source": [
        "#step1 - importing the libraries"
      ],
      "metadata": {
        "id": "Tgs-CLwut35e"
      }
    },
    {
      "cell_type": "code",
      "source": [
        "import pandas as pd\n",
        "import numpy as np"
      ],
      "metadata": {
        "id": "PgykEnnSt7h-"
      },
      "execution_count": null,
      "outputs": []
    },
    {
      "cell_type": "code",
      "source": [
        "#step 2 importing dataset\n",
        "diabetes=pd.read_csv(\"https://github.com/YBI-Foundation/Dataset/raw/main/Diabetes.csv\")"
      ],
      "metadata": {
        "id": "-jKU90PSu_M1"
      },
      "execution_count": null,
      "outputs": []
    },
    {
      "cell_type": "code",
      "source": [
        "diabetes.head()"
      ],
      "metadata": {
        "id": "3whwTGR-vwpP"
      },
      "execution_count": null,
      "outputs": []
    },
    {
      "cell_type": "code",
      "source": [
        "diabetes.info()"
      ],
      "metadata": {
        "id": "vg9UNzRIv0KA"
      },
      "execution_count": null,
      "outputs": []
    },
    {
      "cell_type": "code",
      "source": [
        "diabetes.describe()"
      ],
      "metadata": {
        "id": "VhAQ_PQ5v54w"
      },
      "execution_count": null,
      "outputs": []
    },
    {
      "cell_type": "code",
      "source": [
        "#step 3: Defining the problems Xand y\n",
        "diabetes.columns"
      ],
      "metadata": {
        "id": "ehCaptQov-9k"
      },
      "execution_count": null,
      "outputs": []
    },
    {
      "cell_type": "code",
      "source": [
        "y=diabetes['diabetes']\n",
        "X=diabetes[['pregnancies', 'glucose', 'diastolic', 'triceps', 'insulin', 'bmi','dpf', 'age']]"
      ],
      "metadata": {
        "id": "GqZIxmw2xADN"
      },
      "execution_count": null,
      "outputs": []
    },
    {
      "cell_type": "code",
      "source": [
        "#step 4 : splitting the data\n",
        "from sklearn.model_selection import train_test_split"
      ],
      "metadata": {
        "id": "PVUsjM3MxX-F"
      },
      "execution_count": null,
      "outputs": []
    },
    {
      "cell_type": "code",
      "source": [
        "X_train,X_test,y_train,y_test=train_test_split(X,y, train_size=0.6,random_state=2529)"
      ],
      "metadata": {
        "id": "m3nJqbklxvpg"
      },
      "execution_count": null,
      "outputs": []
    },
    {
      "cell_type": "code",
      "source": [
        "X_train"
      ],
      "metadata": {
        "id": "kROME_X8x3bH"
      },
      "execution_count": null,
      "outputs": []
    },
    {
      "cell_type": "code",
      "source": [
        "#step 5: selection of model\n",
        "from sklearn.linear_model import LogisticRegression\n",
        "model=LogisticRegression()"
      ],
      "metadata": {
        "id": "n2ufOgbHx9kB"
      },
      "execution_count": null,
      "outputs": []
    },
    {
      "cell_type": "code",
      "source": [
        "#step 6: train the model(fit the model)\n",
        "model.fit(X_train,y_train)"
      ],
      "metadata": {
        "id": "uhn180h30ima"
      },
      "execution_count": null,
      "outputs": []
    },
    {
      "cell_type": "code",
      "source": [
        "#step 7: prediction of model\n",
        "Y_predict=model.predict(X_test)"
      ],
      "metadata": {
        "id": "bk7VL5ja0s5O"
      },
      "execution_count": null,
      "outputs": []
    },
    {
      "cell_type": "code",
      "source": [
        "#step 8: Accuracy score\n",
        "from sklearn.metrics import accuracy_score"
      ],
      "metadata": {
        "id": "IBG8EyKs1B_-"
      },
      "execution_count": null,
      "outputs": []
    },
    {
      "cell_type": "code",
      "source": [
        "accuracy_score(y_test,Y_predict)\n"
      ],
      "metadata": {
        "id": "LBiEpLjV2YJ6"
      },
      "execution_count": null,
      "outputs": []
    },
    {
      "cell_type": "code",
      "source": [],
      "metadata": {
        "id": "EID15bZi2pP6"
      },
      "execution_count": null,
      "outputs": []
    }
  ]
}